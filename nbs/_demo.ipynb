{
 "cells": [
  {
   "cell_type": "markdown",
   "metadata": {},
   "source": [
    "# Demo"
   ]
  },
  {
   "cell_type": "code",
   "execution_count": null,
   "metadata": {},
   "outputs": [],
   "source": [
    "import sys\n",
    "# print(sys.executable)\n",
    "# !git branch"
   ]
  },
  {
   "cell_type": "code",
   "execution_count": null,
   "metadata": {},
   "outputs": [],
   "source": [
    "from scholaris.core import *"
   ]
  },
  {
   "cell_type": "code",
   "execution_count": null,
   "metadata": {},
   "outputs": [
    {
     "name": "stdout",
     "output_type": "stream",
     "text": [
      "\u001b[90mLoaded Semantic Scholar API key from the environment variables.\u001b[0m\n",
      "\u001b[90mLoaded email address from the environment variables.\u001b[0m\n",
      "\u001b[90mA local directory /Users/user2/GitHub/scholaris/data already exists for storing data files. No of files: 1\u001b[0m\n",
      "\n"
     ]
    }
   ],
   "source": [
    "assistant = Assistant()"
   ]
  },
  {
   "cell_type": "code",
   "execution_count": null,
   "metadata": {},
   "outputs": [
    {
     "name": "stdout",
     "output_type": "stream",
     "text": [
      "I can assist with a variety of tasks, depending on the tools I have available.\n",
      "\n",
      "I can summarize local documents from my local data directory, including PDFs, markdown files, and plain text files. I can also describe the purpose of Python code in a local file.\n",
      "\n",
      "If you provide an article title, PubMed ID, or digital object identifier (DOI), I can retrieve metadata for that article from OpenAlex or Semantic Scholar.\n",
      "\n",
      "I can convert IDs between formats, such as PMID to PMCID or DOI to URL.\n",
      "\n",
      "I can respond to generic queries and questions using the `respond_to_generic_queries` tool.\n",
      "\n",
      "Please let me know what you'd like assistance with."
     ]
    }
   ],
   "source": [
    "response = assistant.chat(\"Briefly tell me about the tools you have available.\")"
   ]
  },
  {
   "cell_type": "code",
   "execution_count": null,
   "metadata": {},
   "outputs": [
    {
     "name": "stdout",
     "output_type": "stream",
     "text": [
      "get_file_names\n",
      "extract_text_from_pdf\n",
      "get_titles_and_first_authors\n",
      "summarize_local_document\n",
      "describe_python_code\n",
      "id_converter_tool\n",
      "query_openalex_api\n",
      "query_semantic_scholar_api\n",
      "respond_to_generic_queries\n",
      "describe_tools\n"
     ]
    }
   ],
   "source": [
    "assistant.list_tools()"
   ]
  },
  {
   "cell_type": "code",
   "execution_count": null,
   "metadata": {},
   "outputs": [],
   "source": [
    "# assistant.pprint_tools()\n",
    "# assistant.get_tools_schema()"
   ]
  },
  {
   "cell_type": "code",
   "execution_count": null,
   "metadata": {},
   "outputs": [
    {
     "name": "stdout",
     "output_type": "stream",
     "text": [
      "Selecting tools...\n",
      "\n",
      "[{'function': {'name': 'get_file_names', 'arguments': {'ext': 'pdf'}}}]\n",
      "Calling get_file_names() with arguments {'ext': 'pdf'}...\n",
      "\n",
      "Generating final response...\n",
      "I have access to the following PDF file:\n",
      "\n",
      "* jci.insight.144499.v2.pdf\n",
      "\n",
      "Let me know if you'd like me to summarize this document or assist with something else!"
     ]
    }
   ],
   "source": [
    "response = assistant.chat(\"Which PDF files do you have access to in the local data directory\", show_progress=True)"
   ]
  },
  {
   "cell_type": "code",
   "execution_count": null,
   "metadata": {},
   "outputs": [
    {
     "name": "stderr",
     "output_type": "stream",
     "text": [
      "Extracting titles and first authors: 100%|█████████████████████████████████████████████████████████████| 1/1 [00:07<00:00,  7.68s/it]\n"
     ]
    },
    {
     "name": "stdout",
     "output_type": "stream",
     "text": [
      "\n",
      "\n",
      "The title of the PDF document is:\n",
      "\n",
      "\"Distinct antibody repertoires against endemic human coronaviruses in children and adults\"\n",
      "\n",
      "Let me know if you'd like to summarize this document or assist with something else!"
     ]
    }
   ],
   "source": [
    "response = assistant.chat(\"Does this document have a title?\")"
   ]
  },
  {
   "cell_type": "code",
   "execution_count": null,
   "metadata": {},
   "outputs": [
    {
     "name": "stdout",
     "output_type": "stream",
     "text": [
      "The DOI of the article with the title \"Harnessing large language models (LLMs) for candidate gene prioritization and selection\" is:\n",
      "\n",
      "10.1186/s12967-023-04576-8\n",
      "\n",
      "This article has a citation count of 17, was published in 2023, and is available as an open-access PDF on Semantic Scholar."
     ]
    }
   ],
   "source": [
    "response = assistant.chat(\"\"\"\n",
    "Tell me the doi of the article with the following title:\n",
    "'Harnessing large language models (LLMs) for candidate gene prioritization and selection'\n",
    "\"\"\")"
   ]
  },
  {
   "cell_type": "code",
   "execution_count": null,
   "metadata": {},
   "outputs": [],
   "source": [
    "# assistant.show_conversation_history(show_function_calls=True)"
   ]
  },
  {
   "cell_type": "code",
   "execution_count": null,
   "metadata": {},
   "outputs": [
    {
     "name": "stdout",
     "output_type": "stream",
     "text": [
      "\u001b[0m\n",
      "\u001b[34m\u001b[1m  You can now view your Streamlit app in your browser.\u001b[0m\n",
      "\u001b[0m\n",
      "\u001b[34m  URL: \u001b[0m\u001b[1mhttp://localhost:8501\u001b[0m\n",
      "\u001b[0m\n",
      "\u001b[90mLoaded Semantic Scholar API key from the environment variables.\u001b[0m\n",
      "\u001b[90mLoaded email address from the environment variables.\u001b[0m\n",
      "\u001b[90mA local directory /Users/user2/GitHub/scholaris/nbs/data already exists for storing data files. No of files: 0\u001b[0m\n",
      "\n",
      "^C\n",
      "\u001b[34m  Stopping...\u001b[0m\n"
     ]
    }
   ],
   "source": [
    "!streamlit run ../scholaris/ui.py --browser.serverAddress localhost"
   ]
  },
  {
   "cell_type": "code",
   "execution_count": null,
   "metadata": {},
   "outputs": [],
   "source": []
  }
 ],
 "metadata": {
  "kernelspec": {
   "display_name": "python3",
   "language": "python",
   "name": "python3"
  }
 },
 "nbformat": 4,
 "nbformat_minor": 4
}
