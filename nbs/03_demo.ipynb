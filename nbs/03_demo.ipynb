{
 "cells": [
  {
   "cell_type": "markdown",
   "metadata": {},
   "source": [
    "# Demo\n",
    "\n",
    "> comming soon..."
   ]
  },
  {
   "cell_type": "code",
   "execution_count": null,
   "metadata": {},
   "outputs": [
    {
     "name": "stdout",
     "output_type": "stream",
     "text": [
      "Collecting git+https://github.com/nicomarr/scholaris.git\n",
      "  Cloning https://github.com/nicomarr/scholaris.git to /private/var/folders/fm/9x31wj1d4yn0yk43g3qwzn_00000gq/T/pip-req-build-tfg6foag\n",
      "  Running command git clone --filter=blob:none --quiet https://github.com/nicomarr/scholaris.git /private/var/folders/fm/9x31wj1d4yn0yk43g3qwzn_00000gq/T/pip-req-build-tfg6foag\n",
      "  Resolved https://github.com/nicomarr/scholaris.git to commit ed279e1c7287b82b48f2f1d9445f1619eae9d6f3\n",
      "  Installing build dependencies ... \u001b[?25ldone\n",
      "\u001b[?25h  Getting requirements to build wheel ... \u001b[?25ldone\n",
      "\u001b[?25h  Preparing metadata (pyproject.toml) ... \u001b[?25ldone\n",
      "\u001b[?25hNote: you may need to restart the kernel to use updated packages.\n"
     ]
    }
   ],
   "source": [
    "%pip install git+https://github.com/nicomarr/scholaris.git"
   ]
  },
  {
   "cell_type": "code",
   "execution_count": null,
   "metadata": {},
   "outputs": [],
   "source": [
    "#| hide\n",
    "import ollama\n",
    "from scholaris.core import *"
   ]
  },
  {
   "cell_type": "code",
   "execution_count": null,
   "metadata": {},
   "outputs": [
    {
     "name": "stdout",
     "output_type": "stream",
     "text": [
      "Loaded Semantic Scholar API key from the environment variables.\n",
      "Loaded email address from the environment variables.\n",
      "A local directory ../data already exists for storing data files. No of files: 1\n",
      "\n"
     ]
    }
   ],
   "source": [
    "#| hide\n",
    "assistant = Assistant()"
   ]
  },
  {
   "cell_type": "code",
   "execution_count": null,
   "metadata": {},
   "outputs": [],
   "source": [
    "#| hide\n",
    "prompts = [\n",
    "    \"Tell me about your capabilities.\",\n",
    "    \"Which PDF files do you have access to in the local data directory?\",\n",
    "    \"Does this document have a title?\",\n",
    "    \"Summarize the content of this file.\",\n",
    "    \"How often has the article with the DOI 10.3389/fimmu.2022.856497 been cited?\",\n",
    "    \"Has this article been archived in Semantic Scholar? Can you provide a TLDR summary of the article with the DOI 10.3389/fimmu.2022.856497?\",\n",
    "    \"Can you provide the corresponding PMID for another article with the DOI 10.1126/science.adh4059?\",\n",
    "    \"What is the capital of France?\",\n",
    "]"
   ]
  },
  {
   "cell_type": "code",
   "execution_count": null,
   "metadata": {},
   "outputs": [],
   "source": [
    "#| hide\n",
    "# for prompt in prompts:\n",
    "#     assistant.chat(prompt)\n",
    "#     print(\"\\n-----------------------------------\\n\")"
   ]
  },
  {
   "cell_type": "code",
   "execution_count": null,
   "metadata": {},
   "outputs": [],
   "source": [
    "#| hide\n",
    "# assistant.show_conversion_history()"
   ]
  },
  {
   "cell_type": "code",
   "execution_count": null,
   "metadata": {},
   "outputs": [],
   "source": [
    "#| hide\n",
    "# assistant.show_conversion_history(show_function_calls=True)"
   ]
  },
  {
   "cell_type": "code",
   "execution_count": null,
   "metadata": {},
   "outputs": [],
   "source": [
    "#| hide\n",
    "# assistant.pprint_tools()"
   ]
  },
  {
   "cell_type": "code",
   "execution_count": null,
   "metadata": {},
   "outputs": [],
   "source": [
    "#| default_exp demo"
   ]
  }
 ],
 "metadata": {
  "kernelspec": {
   "display_name": "python3",
   "language": "python",
   "name": "python3"
  }
 },
 "nbformat": 4,
 "nbformat_minor": 2
}
