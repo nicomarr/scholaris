{
 "cells": [
  {
   "attachments": {},
   "cell_type": "markdown",
   "metadata": {},
   "source": [
    "# User & Developer Guide"
   ]
  },
  {
   "cell_type": "markdown",
   "metadata": {},
   "source": [
    "## About Scholaris\n",
    "Scholaris is a Python package that sets up a research assistant on your local computer, leveraging function calling capabilities. Designed specifically for health and life sciences, it helps researchers gain insights from scholarly articles by integrating with the [Ollama Python library](https://pypi.org/project/ollama/)."
   ]
  },
  {
   "cell_type": "markdown",
   "metadata": {},
   "source": [
    ":::{layout-ncol=2}\n",
    "![CI Status](https://github.com/nicomarr/scholaris/actions/workflows/test.yaml/badge.svg)\n",
    "![PyPI Version](https://img.shields.io/pypi/v/scholaris.svg)\n",
    ":::"
   ]
  },
  {
   "cell_type": "markdown",
   "metadata": {},
   "source": [
    "## Key features\n",
    "\n",
    "- **Local setup:** No dependency on cloud-hosted LLMs for inference.\n",
    "- **Extract data from local files:** Built-in tools to extract data from PDFs, py files, and plain text or markdown files.\n",
    "- **External data retrieval:** Built-in tools to make API calls to external data sources, such as [OpenAlex](https://openalex.org/), [Semantic Scholar](https://www.semanticscholar.org/), or NCBI's [Any ID converter](https://www.ncbi.nlm.nih.gov/pmc/utils/idconv/v1.0/).\n",
    "- **Customizable and extensible architecture:** Easily extend the functionality of the assistant by adding new tools with only a few lines of code.\n"
   ]
  },
  {
   "cell_type": "markdown",
   "metadata": {},
   "source": [
    ":::{.callout-warning}\n",
    "This Python package is under active development and is not yet ready for production use. Report any issues or feature requests on the [GitHub repository](https://github.com/nicomarr/scholaris/issues).\n",
    ":::"
   ]
  },
  {
   "attachments": {},
   "cell_type": "markdown",
   "metadata": {},
   "source": [
    "## Installation"
   ]
  },
  {
   "attachments": {},
   "cell_type": "markdown",
   "metadata": {},
   "source": [
    "**Step 1.** [Download Ollama](https://ollama.com/download) and follow the instructions to install Ollama for your operating system. Then, pull and run [llama3.1](https://ollama.com/library/llama3.1) (parameters: 8B, quantization: Q4_0, size: 4.7 GB) according to the ollama documentation.\n",
    "\n",
    "**Step 2.** Go to your terminal and setup a new virtual environment, such as with Conda:\n",
    "\n",
    "::: {.callout-tip collapse=\"true\" title=\"Conda Installation\"}\n",
    "Quick command line instructions on how to install  Miniconda, a free minimal installer for Conda, can be found [here](https://docs.anaconda.com/free/miniconda/#quick-command-line-install).\n",
    ":::\n",
    "\n",
    "```sh\n",
    "$ conda create -n scholaris-env python=3.12\n",
    "```\n",
    "\n",
    "**Step 3.** Activate the virtual environment:\n",
    "\n",
    "```sh\n",
    "$ conda activate scholaris-env\n",
    "```\n",
    "\n",
    "**Step 4.** Install latest scholaris Python package:\n",
    "\n",
    ":::{.panel-tabset} \n",
    "#### from PyPI\n",
    "\n",
    "\n",
    "```sh\n",
    "$ pip install scholaris\n",
    "```\n",
    "\n",
    "#### from the GitHub repository\n",
    "\n",
    "```sh\n",
    "$ pip install git+https://github.com/nicomarr/scholaris.git\n",
    "```\n",
    ":::"
   ]
  },
  {
   "cell_type": "markdown",
   "metadata": {},
   "source": [
    "## Getting started"
   ]
  },
  {
   "cell_type": "markdown",
   "metadata": {},
   "source": [
    "**Step 1.** Open a [Jupyter notebook](https://jupyter.org/), IPython environment, or start Python from the terminal and import the scholaris core module:"
   ]
  },
  {
   "cell_type": "code",
   "execution_count": null,
   "metadata": {},
   "outputs": [],
   "source": [
    "from scholaris.core import *"
   ]
  },
  {
   "cell_type": "markdown",
   "metadata": {},
   "source": [
    "**Step 2.** Initialize the `Assistant` class:"
   ]
  },
  {
   "cell_type": "markdown",
   "metadata": {},
   "source": [
    "::: {.callout-caution collapse=\"true\" title=\"Prerequisite: Ollama setup\"}\n",
    "Make sure the Ollama app is installed on your local computer and Llama 2 7B has been downloaded and is running before initializing the assistant. Otherwise, the initialization will abort. \n",
    ":::"
   ]
  },
  {
   "cell_type": "markdown",
   "metadata": {},
   "source": [
    "::: {.callout-note collapse=\"true\" title=\"Default parameters\"}\n",
    "If no additional arguments are passed, the assistant is initialized with Llama 3.1 8B, a set of core functions and a default system message. During initialization, messages are printed to indicate whether credentials such as API keys and email are loaded from the environment variables (more on that below), and whether a local data directory already exists or has been created.\n",
    ":::"
   ]
  },
  {
   "cell_type": "markdown",
   "metadata": {},
   "source": [
    "Initialize the `Assistant` class with the default parameters:\n"
   ]
  },
  {
   "cell_type": "code",
   "execution_count": null,
   "metadata": {},
   "outputs": [
    {
     "name": "stdout",
     "output_type": "stream",
     "text": [
      "\u001b[90mLoaded Semantic Scholar API key from the environment variables.\u001b[0m\n",
      "\u001b[90mLoaded email address from the environment variables.\u001b[0m\n",
      "\u001b[90mA local directory /Users/user2/GitHub/scholaris/data already exists for storing data files. No of files: 1\u001b[0m\n",
      "\n"
     ]
    }
   ],
   "source": [
    "assistant = Assistant()"
   ]
  },
  {
   "cell_type": "markdown",
   "metadata": {},
   "source": [
    "::: {.callout-tip collapse=\"true\" title=\"Sample file download\"}\n",
    "For the examples shown below, a local data directory had already been created in the parent directory prior to initialization, and a PDF file was downloaded and saved to the local data directory for demonstration purposes. You can download the same PDF file, or additional/other files by running the following commands in a Jupyter notebook cell. Alternatively, you can also download and add files manually to the local data directory after initialization.\n",
    "\n",
    "```python\n",
    "!mkdir -p ../data\n",
    "pdf_urls = [\n",
    "    \"https://df6sxcketz7bb.cloudfront.net/manuscripts/144000/144499/jci.insight.144499.v2.pdf\",\n",
    "    # Add more URLs here as needed\n",
    "]\n",
    "for url in pdf_urls:\n",
    "    !curl -o ../data/$(basename {url}) {url}\n",
    "```\n",
    "To see where data are stored afer initialization, simply call the `dir_path` attribute of the `assistant` object, like so:\n",
    "\n",
    "```python\n",
    "print(assistant.dir_path)\n",
    "```\n",
    ":::"
   ]
  },
  {
   "cell_type": "markdown",
   "metadata": {},
   "source": [
    "Explicitly set or change the model by passing the model name as an argument to the `Assistant` class:"
   ]
  },
  {
   "cell_type": "code",
   "execution_count": null,
   "metadata": {},
   "outputs": [
    {
     "name": "stdout",
     "output_type": "stream",
     "text": [
      "\u001b[90mLoaded Semantic Scholar API key from the environment variables.\u001b[0m\n",
      "\u001b[90mLoaded email address from the environment variables.\u001b[0m\n",
      "\u001b[90mA local directory /Users/user2/GitHub/scholaris/data already exists for storing data files. No of files: 1\u001b[0m\n",
      "\n"
     ]
    }
   ],
   "source": [
    "assistant = Assistant(model=\"llama3.1:latest\")"
   ]
  },
  {
   "cell_type": "markdown",
   "metadata": {},
   "source": [
    "::: {.callout-note collapse=\"true\" title=\"Supported models\"}\n",
    "Download and select a model that supports tool calling. At the time of writing, the following models are supported:\n",
    "\n",
    "- llama3.1\n",
    "- llama3.2\n",
    "- qwen2.5\n",
    "- mistral-nemo\n",
    "- nemotron-mini\n",
    "- command-r\n",
    "- command-r-plus\n",
    "\n",
    "For more information, read the following [blog post](https://ollama.com/blog/tool-support).\n",
    ":::"
   ]
  },
  {
   "attachments": {},
   "cell_type": "markdown",
   "metadata": {},
   "source": [
    "## How to use"
   ]
  },
  {
   "cell_type": "markdown",
   "metadata": {},
   "source": [
    "### Chat\n",
    "To chat with the assistant, simply call the `chat()` method with your prompt as input. You also can store the response in a variable, but this is optional. By default, the assistant will stream the response and store the conversation history."
   ]
  },
  {
   "cell_type": "code",
   "execution_count": null,
   "metadata": {},
   "outputs": [
    {
     "name": "stdout",
     "output_type": "stream",
     "text": [
      "I can summarize local documents, such as PDFs or markdown files, using my `summarize_local_document` tool. I can also extract text from specific pages of a PDF file using `extract_text_from_pdf`. If you need help with Python code, I've got a `describe_python_code` tool to assist with that. Want to convert article IDs? My `id_converter_tool` is up for the task! Need research article metadata? Use my `query_openalex_api` or `query_semantic_scholar_api` tools to get what you're looking for. And if none of these fit your needs, don't worry - I can still try to help with a generic query using `respond_to_generic_queries`. How can I assist you today?"
     ]
    }
   ],
   "source": [
    "response = assistant.chat(\"Briefly tell me about the tools you have available.\")"
   ]
  },
  {
   "cell_type": "markdown",
   "metadata": {},
   "source": [
    "::: {.callout-tip collapse=\"true\" title=\"Accessing the messages\"}\n",
    "You can also access the assistant's responses from the `message` attribute, like so:\n",
    "```python\n",
    "assistant.messages[-1][\"content\"] # Access the last message\n",
    "```\n",
    ":::"
   ]
  },
  {
   "cell_type": "markdown",
   "metadata": {},
   "source": [
    "By setting `show_progress=True`, you can see the step-by-step progress of the fuction calling. This includes the tool choice, selected arguments, if applicable, and the output of the called function that is being passed back to the LLM to generate the final response."
   ]
  },
  {
   "cell_type": "code",
   "execution_count": null,
   "metadata": {},
   "outputs": [
    {
     "name": "stdout",
     "output_type": "stream",
     "text": [
      "Selecting tools...\n",
      "\n",
      "[{'function': {'name': 'get_file_names', 'arguments': {'ext': 'pdf'}}}]\n",
      "Calling get_file_names() with arguments {'ext': 'pdf'}...\n",
      "\n",
      "Generating final response...\n",
      "I have access to a PDF file named `jci.insight.144499.v2.pdf` in the local data directory. Would you like me to summarize or extract text from this document?"
     ]
    }
   ],
   "source": [
    "response = assistant.chat(\"Which PDF files do you have access to in the local data directory\", show_progress=True)"
   ]
  },
  {
   "cell_type": "markdown",
   "metadata": {},
   "source": [
    "By default, streaming is enabled. If you like to disable streaming, set `stream=False`. This will store the entire conversation history in the `messages` attribute, which can be accessed as shown above."
   ]
  },
  {
   "cell_type": "code",
   "execution_count": null,
   "metadata": {},
   "outputs": [
    {
     "name": "stderr",
     "output_type": "stream",
     "text": [
      "Extracting titles and first authors: 100%|██████████| 1/1 [00:07<00:00,  7.68s/it]\n"
     ]
    },
    {
     "name": "stdout",
     "output_type": "stream",
     "text": [
      "\n",
      "\n",
      "Yes, the document `jci.insight.144499.v2.pdf` has a title: \"Distinct antibody repertoires against endemic human coronaviruses in children and adults\" by Taushif Khan.\n"
     ]
    }
   ],
   "source": [
    "response = assistant.chat(\"Does this document have a title?\", stream_response=False)"
   ]
  },
  {
   "cell_type": "markdown",
   "metadata": {},
   "source": [
    "### Conversation history"
   ]
  },
  {
   "cell_type": "markdown",
   "metadata": {},
   "source": [
    "Show the conversation history by calling the assistant's `show_conversation_history()` method:"
   ]
  },
  {
   "cell_type": "code",
   "execution_count": null,
   "metadata": {},
   "outputs": [
    {
     "name": "stdout",
     "output_type": "stream",
     "text": [
      "\u001b[1mUser:\u001b[0m Briefly tell me about the tools you have available.\n",
      "\n",
      "\u001b[1m\u001b[94mAssistant response:\u001b[0m \u001b[94mI can summarize local documents, such as PDFs or markdown files, using my `summarize_local_document` tool. I can also extract text from specific pages of a PDF file using `extract_text_from_pdf`. If you need help with Python code, I've got a `describe_python_code` tool to assist with that. Want to convert article IDs? My `id_converter_tool` is up for the task! Need research article metadata? Use my `query_openalex_api` or `query_semantic_scholar_api` tools to get what you're looking for. And if none of these fit your needs, don't worry - I can still try to help with a generic query using `respond_to_generic_queries`. How can I assist you today?\u001b[0m\n",
      "\n",
      "\u001b[1mUser:\u001b[0m Which PDF files do you have access to in the local data directory\n",
      "\n",
      "\u001b[1m\u001b[94mAssistant response:\u001b[0m \u001b[94mI have access to a PDF file named `jci.insight.144499.v2.pdf` in the local data directory. Would you like me to summarize or extract text from this document?\u001b[0m\n",
      "\n",
      "\u001b[1mUser:\u001b[0m Does this document have a title?\n",
      "\n",
      "\u001b[1m\u001b[94mAssistant response:\u001b[0m \u001b[94mYes, the document `jci.insight.144499.v2.pdf` has a title: \"Distinct antibody repertoires against endemic human coronaviruses in children and adults\" by Taushif Khan.\u001b[0m\n",
      "\n"
     ]
    }
   ],
   "source": [
    "assistant.show_conversion_history()"
   ]
  },
  {
   "cell_type": "markdown",
   "metadata": {},
   "source": [
    "::: {.callout-tip collapse=\"true\" title=\"Showing the conversation history with function calls\"}\n",
    "The `show_conversation_history()` method can be called with the `show_function_calls=True` argument to display the function calls made by the assistant during the conversation, and the output of the function calls. This can be useful for understanding the assistant's responses, and for debugging purposes.\n",
    "```python\n",
    "assistant.show_conversion_history(show_function_calls=True)\n",
    "```\n",
    ":::"
   ]
  },
  {
   "cell_type": "markdown",
   "metadata": {},
   "source": [
    "Clear the conversation history by calling the assistant's `clear_conversation_history()` method:"
   ]
  },
  {
   "cell_type": "code",
   "execution_count": null,
   "metadata": {},
   "outputs": [],
   "source": [
    "assistant.clear_conversion_history()"
   ]
  },
  {
   "cell_type": "markdown",
   "metadata": {},
   "source": [
    "### Assistant parameters"
   ]
  },
  {
   "cell_type": "markdown",
   "metadata": {},
   "source": [
    "Show the model by printing the assistant object:"
   ]
  },
  {
   "cell_type": "code",
   "execution_count": null,
   "metadata": {},
   "outputs": [
    {
     "data": {
      "text/plain": [
       "Assistant, powered by llama3.1"
      ]
     },
     "execution_count": null,
     "metadata": {},
     "output_type": "execute_result"
    }
   ],
   "source": [
    "assistant"
   ]
  },
  {
   "cell_type": "markdown",
   "metadata": {},
   "source": [
    "Or show the model by accessing the assistant's model attribute:"
   ]
  },
  {
   "cell_type": "code",
   "execution_count": null,
   "metadata": {},
   "outputs": [
    {
     "data": {
      "text/plain": [
       "'llama3.1:latest'"
      ]
     },
     "execution_count": null,
     "metadata": {},
     "output_type": "execute_result"
    }
   ],
   "source": [
    "assistant.model"
   ]
  },
  {
   "cell_type": "markdown",
   "metadata": {},
   "source": [
    "Show the system messages by accessing the assistant's sys_message attribute:"
   ]
  },
  {
   "cell_type": "code",
   "execution_count": null,
   "metadata": {},
   "outputs": [
    {
     "name": "stdout",
     "output_type": "stream",
     "text": [
      "You are an AI assistant specialized in analyzing research articles.\n",
      "        Your role is to provide concise, human-readable responses based on information from tools and conversation history.\n",
      "\n",
      "        Key instructions:\n",
      "        1. Use provided tools to gather information before answering.\n",
      "        2. Interpret tool results and provide clear, concise answers in natural language.\n",
      "        3. If you can't answer with available tools, state this clearly.\n",
      "        4. Don't provide information if tool content is empty.\n",
      "        5. Never include raw JSON, tool outputs, or formatting tags in responses.\n",
      "        6. Format responses as plain text for direct human communication.\n",
      "        7. Use clear formatting (e.g., numbered or bulleted lists) when appropriate.\n",
      "        8. Provide article details (e.g., DOI, citation count) in a conversational manner.\n",
      "\n",
      "        Act as a knowledgeable research assistant, offering clear and helpful information based on available tools and data.\n",
      "        \n"
     ]
    }
   ],
   "source": [
    "print(assistant.sys_message)"
   ]
  },
  {
   "cell_type": "markdown",
   "metadata": {},
   "source": [
    "### Local data access"
   ]
  },
  {
   "cell_type": "markdown",
   "metadata": {},
   "source": [
    "By default, the assistant has access to a single directory, called `data`. Within this directory, the assistant can list and read the following file formats and extensions: pdf, txt, md, markdown, csv, and py.\n",
    "If not already present, the directory is created when the assistant is initialized. If you want to change the directory name, you can do so by passing the desired directory name as an argument to the `Assistant` class when it is initialized. For example, to create a directory called `proprietary_data`, you would initialize the assistant as follows:\n",
    "```python\n",
    "assistant = Assistant(dir_path=\"../proprietary_data\")\n",
    "```"
   ]
  },
  {
   "cell_type": "markdown",
   "metadata": {},
   "source": [
    "### Tools"
   ]
  },
  {
   "cell_type": "markdown",
   "metadata": {},
   "source": [
    "By default, the assistant can call a set of core tools or functions which are passed to the `Assistant` as a dictionary when it is initialized. With these tools or functions, the assistant will be able to get a list of file names in a specific data directory, can extract content from these files, and summarize them. In addition, the assistant can make API calls to external data sources, such as [OpenAlex](https://openalex.org) or [Semantic Scholar](https://www.semanticscholar.org), to retrieve information about a large number of scholarly articles. The tools available to the assistant can be viewed by accessing the assistant's `list_tools()` method as follows:"
   ]
  },
  {
   "cell_type": "code",
   "execution_count": null,
   "metadata": {},
   "outputs": [
    {
     "name": "stdout",
     "output_type": "stream",
     "text": [
      "get_file_names\n",
      "extract_text_from_pdf\n",
      "get_titles_and_first_authors\n",
      "summarize_local_document\n",
      "describe_python_code\n",
      "id_converter_tool\n",
      "query_openalex_api\n",
      "query_semantic_scholar_api\n",
      "respond_to_generic_queries\n",
      "describe_tools\n"
     ]
    }
   ],
   "source": [
    "assistant.list_tools()"
   ]
  },
  {
   "cell_type": "markdown",
   "metadata": {},
   "source": [
    ":::{.callout-tip collapse=\"true\" title=\"Detailed tool information\"}\n",
    "You can learn more details about the core tools by visiting the Source Code page, which lists each function and provides a brief description of its purpose, functionality, required arguments, and usage (the docstring). This information helps you understand the available tools and how the LLM uses them. Alternatively, you can execute the `assistant.pprint_tools()` or `assistant.get_tools_schema()` methods.\n",
    ":::"
   ]
  },
  {
   "cell_type": "markdown",
   "metadata": {},
   "source": [
    "### Authentication for tool calling and API access (optional)"
   ]
  },
  {
   "cell_type": "markdown",
   "metadata": {},
   "source": [
    "Some tools take optional authentication parameters, such as an API key or email. For example, the `query_semantic_scholar` tool takes an optional API key to access the Semantic Scholar API, which will increase the API rate limit. Request a Semantic Scholar API Key [here](https://www.semanticscholar.org/product/api/tutorial). Similarly, the `query_openaplex_api` tool takes an optional email parameter to access the OpenAlex API, which is recommended as a best practice and kindly requested by the [API provider](https://docs.openalex.org/how-to-use-the-api/rate-limits-and-authentication#the-polite-pool). \n",
    "\n",
    "The best way to pass these parameters is to set them as environment variables, with the following key names: `SEMANTIC_SCHOLAR_API_KEY` and `EMAIL`. The Assistant class will automatically read these environment variables when initialized and pass them to the tools that require them. Alternatively, you can pass the Semantic Scholar API key and your email by simply adding the authentication argument when initializing the Assistant class, as shown below:"
   ]
  },
  {
   "cell_type": "code",
   "execution_count": null,
   "metadata": {},
   "outputs": [
    {
     "name": "stdout",
     "output_type": "stream",
     "text": [
      "\u001b[90mA local directory /Users/user2/GitHub/scholaris/data already exists for storing data files. No of files: 1\u001b[0m\n",
      "\n"
     ]
    }
   ],
   "source": [
    "authentication = {\n",
    "    \"SEMANTIC_SCHOLAR_API_KEY\": \"your_api_key\",\n",
    "    \"EMAIL\": \"your_email@example.com\"\n",
    "}\n",
    "assistant = Assistant(authentication=authentication)"
   ]
  },
  {
   "cell_type": "markdown",
   "metadata": {},
   "source": [
    " If you want to change the core functions, you can do so by passing the desired core functions as an argument to the Assistant class when it is initialized. For example, to limit the assitant's ability to respond to generic questions and to access external data by making requests to the OpenAlex and Semantic Scholar API's, you would initialize the assistant as follows:"
   ]
  },
  {
   "cell_type": "code",
   "execution_count": null,
   "metadata": {},
   "outputs": [
    {
     "name": "stdout",
     "output_type": "stream",
     "text": [
      "\u001b[90mLoaded Semantic Scholar API key from the environment variables.\u001b[0m\n",
      "\u001b[90mLoaded email address from the environment variables.\u001b[0m\n",
      "\u001b[90mA local directory /Users/user2/GitHub/scholaris/data already exists for storing data files. No of files: 1\u001b[0m\n",
      "\n"
     ]
    }
   ],
   "source": [
    "assistant = Assistant(tools = {\n",
    "    \"query_openalex_api\": query_openalex_api,\n",
    "    \"query_semantic_scholar_api\": query_semantic_scholar_api,\n",
    "    \"respond_to_generic_queries\": respond_to_generic_queries,\n",
    "    })"
   ]
  },
  {
   "cell_type": "markdown",
   "metadata": {},
   "source": [
    ":::{.callout-note collapse=\"true\" title=\"What happens if the assistant is initialized without any tools?\"}\n",
    "The research assistent is set up so that it has to use a tool to generate a final response to a user's prompt. This is to ensure that the assistant is primarily providing information which is relevant for health and life sciences. Otherwise it will abort the conversation, like so:"
   ]
  },
  {
   "cell_type": "code",
   "execution_count": null,
   "metadata": {},
   "outputs": [
    {
     "name": "stdout",
     "output_type": "stream",
     "text": [
      "\u001b[90mLoaded Semantic Scholar API key from the environment variables.\u001b[0m\n",
      "\u001b[90mLoaded email address from the environment variables.\u001b[0m\n",
      "\u001b[90mA local directory /Users/user2/GitHub/scholaris/data already exists for storing data files. No of files: 1\u001b[0m\n",
      "\n",
      "\u001b[91mNo tools provided! Please add tools to the assistant.\u001b[0m\n",
      "\u001b[91mNo tool calls found in the response. Adding an empty tool_calls list to the conversation history. Aborting...\u001b[0m\n",
      "\n"
     ]
    }
   ],
   "source": [
    "assistant = Assistant(tools = {})\n",
    "assistant.chat(\"What is the capital of France?\")"
   ]
  },
  {
   "cell_type": "markdown",
   "metadata": {},
   "source": [
    ":::"
   ]
  },
  {
   "cell_type": "markdown",
   "metadata": {},
   "source": [
    ":::{.callout-tip collapse=\"true\" title=\"Function and method introspection\"}\n",
    "When working in a Jupyter notebook or another iPython environment, you can quickly display details of a class method or fucntion by using special syntax. Type the name of the method or function, followed by a `?`, or type `??` to get more detailed information (i.e., the docstring and basic information, or the source code, respectively). For example, to get information about the `chat` method, you can type the following:\n",
    "```python\n",
    "assistant.chat?\n",
    "assistant??\n",
    "```\n",
    ":::"
   ]
  },
  {
   "attachments": {},
   "cell_type": "markdown",
   "metadata": {},
   "source": [
    "## Developer Guide"
   ]
  },
  {
   "cell_type": "markdown",
   "metadata": {},
   "source": [
    "### Defining new tools"
   ]
  },
  {
   "cell_type": "markdown",
   "metadata": {},
   "source": [
    "You can define new functions to be used by the assistant as tools. To simplify this process, a decorator called `@json_schema_decorator` is provided so it is not necessary to define the schema for the function. The schema is automatically generated based on the function's annotation and docstring. \n",
    "\n",
    "::: {.callout-tip collapse=\"true\" title=\"Key points to consider\"}\n",
    "- Use type hints in the function signature to define the input and output types.\n",
    "- Use Google style docstrings, as shown below, to describe the function's purpose and the expected input and output.\n",
    "- Use the `@json_schema_decorator` decorator to automatically generate the schema for the function.\n",
    "- Ensure the output is a string (such as a JSON-formatted string) that can be passed back to the LLM to generate the final response.\n",
    ":::"
   ]
  },
  {
   "cell_type": "markdown",
   "metadata": {},
   "source": [
    ":::{.callout-important collapse=\"true\" title=\"Importance of metadata for function calling\"}\n",
    "It's crucial to understand that this metadata (function name, type hints, and docstring) is all the information the LLM has access to when deciding which function to call and how to use it. The LLM does not have access to or information about the actual source code or implementation of the functions (unless explicitly provided). Therefore, the metadata must be comprehensive and accurate to ensure proper function selection and usage by the LLM.\n",
    ":::"
   ]
  },
  {
   "cell_type": "markdown",
   "metadata": {},
   "source": [
    "The following example shows how to define a new tool to multiply two numbers, which takes as input two integers or strings that can be converted to integers, and returns the product of the two numbers as a string:"
   ]
  },
  {
   "cell_type": "code",
   "execution_count": null,
   "metadata": {},
   "outputs": [],
   "source": [
    "from typing import Union\n",
    "\n",
    "@json_schema_decorator\n",
    "def multiply_two_numbers(a: Union[int, str], b: Union[int, str]) -> str:\n",
    "    \"\"\"\n",
    "    A function to multiply two numbers.\n",
    "\n",
    "    Args:\n",
    "        a: First number, can be an integer or a string representation of an integer.\n",
    "        b: Second number, can be an integer or a string representation of an integer.\n",
    "\n",
    "    Returns:\n",
    "        str: The product of the two numbers, as a string.\n",
    "\n",
    "    Raises:\n",
    "        ValueError: If the inputs cannot be converted to integers.\n",
    "    \"\"\"\n",
    "    try:\n",
    "        int_a = int(a)\n",
    "        int_b = int(b)\n",
    "        return str(int_a * int_b)\n",
    "    except ValueError:\n",
    "        return \"Error: Inputs must be integers or string representations of integers.\""
   ]
  },
  {
   "cell_type": "markdown",
   "metadata": {},
   "source": [
    "::: {.callout-note collapse=\"true\" title=\"Optional arguments\"}\n",
    "Type hints are recommended but not required, unless you want to define optional arguments. In that case, you can use the `Optional` type hint from the `typing` module. This will determine which arguments are included in the required list values, as shown below.\n",
    ":::"
   ]
  },
  {
   "cell_type": "markdown",
   "metadata": {},
   "source": [
    "To ensure the JSON schema is generated correctly, you can call the `json_schema` attribute of the function:"
   ]
  },
  {
   "cell_type": "code",
   "execution_count": null,
   "metadata": {},
   "outputs": [
    {
     "data": {
      "text/plain": [
       "{'type': 'function',\n",
       " 'function': {'name': 'multiply_two_numbers',\n",
       "  'description': 'A function to multiply two numbers.',\n",
       "  'parameters': {'type': 'object',\n",
       "   'properties': {'a': {'type': 'object',\n",
       "     'description': 'First number, can be an integer or a string representation of an integer.'},\n",
       "    'b': {'type': 'object',\n",
       "     'description': 'Second number, can be an integer or a string representation of an integer.'}},\n",
       "   'required': ['a', 'b']}}}"
      ]
     },
     "execution_count": null,
     "metadata": {},
     "output_type": "execute_result"
    }
   ],
   "source": [
    "multiply_two_numbers.json_schema"
   ]
  },
  {
   "cell_type": "markdown",
   "metadata": {},
   "source": [
    "Alternatively, you can use the `generate_json_schema` function:"
   ]
  },
  {
   "cell_type": "code",
   "execution_count": null,
   "metadata": {},
   "outputs": [
    {
     "data": {
      "text/plain": [
       "{'type': 'function',\n",
       " 'function': {'name': 'multiply_two_integers',\n",
       "  'description': 'A function to multiply two numbers.',\n",
       "  'parameters': {'type': 'object',\n",
       "   'properties': {'a': {'type': 'object',\n",
       "     'description': 'First number, can be an integer or a string representation of an integer.'},\n",
       "    'b': {'type': 'object',\n",
       "     'description': 'Second number, can be an integer or a string representation of an integer.'}},\n",
       "   'required': ['a', 'b']}}}"
      ]
     },
     "execution_count": null,
     "metadata": {},
     "output_type": "execute_result"
    }
   ],
   "source": [
    "#|output: false\n",
    "generate_json_schema(multiply_two_numbers)"
   ]
  },
  {
   "cell_type": "markdown",
   "metadata": {},
   "source": [
    "### Adding tools"
   ]
  },
  {
   "cell_type": "markdown",
   "metadata": {},
   "source": [
    "You can add new tools by passing a dictionary of new tools to the `Assistant` class when it is initialized. Use the `add_tools` argument to add new tools to the assistant. This will merge the new tools with the existing tools. For example, to add the new tool called `multiply_two_integers` to the assistant, you would initialize the assistant as follows:"
   ]
  },
  {
   "cell_type": "code",
   "execution_count": null,
   "metadata": {},
   "outputs": [
    {
     "name": "stdout",
     "output_type": "stream",
     "text": [
      "\u001b[90mLoaded Semantic Scholar API key from the environment variables.\u001b[0m\n",
      "\u001b[90mLoaded email address from the environment variables.\u001b[0m\n",
      "\u001b[90mA local directory /Users/user2/GitHub/scholaris/data already exists for storing data files. No of files: 1\u001b[0m\n",
      "\n"
     ]
    }
   ],
   "source": [
    "assistant = Assistant(add_tools = {\"multiply_two_integers\": multiply_two_numbers})"
   ]
  },
  {
   "cell_type": "markdown",
   "metadata": {},
   "source": [
    "You can confirm that the new tool has been added to the list of existing tools by using the `list_tools()` method:"
   ]
  },
  {
   "cell_type": "code",
   "execution_count": null,
   "metadata": {},
   "outputs": [
    {
     "name": "stdout",
     "output_type": "stream",
     "text": [
      "get_file_names\n",
      "extract_text_from_pdf\n",
      "get_titles_and_first_authors\n",
      "summarize_local_document\n",
      "describe_python_code\n",
      "id_converter_tool\n",
      "query_openalex_api\n",
      "query_semantic_scholar_api\n",
      "respond_to_generic_queries\n",
      "describe_tools\n",
      "multiply_two_integers\n"
     ]
    }
   ],
   "source": [
    "assistant.list_tools()"
   ]
  },
  {
   "cell_type": "code",
   "execution_count": null,
   "metadata": {},
   "outputs": [
    {
     "name": "stdout",
     "output_type": "stream",
     "text": [
      "Selecting tools...\n",
      "\n",
      "[{'function': {'name': 'multiply_two_integers', 'arguments': {'a': '4173', 'b': '351'}}}]\n",
      "Calling multiply_two_integers() with arguments {'a': '4173', 'b': '351'}...\n",
      "\n",
      "Generating final response...\n",
      "The result of multiplying 4173 by 351 is 1,464,723."
     ]
    }
   ],
   "source": [
    "response = assistant.chat(\"What is the product of 4173 and 351?\", show_progress=True)"
   ]
  },
  {
   "cell_type": "markdown",
   "metadata": {},
   "source": [
    "### Adding methods\n",
    "\n",
    "You can add new methods to the `Assistant` class by using the `add_to_class()` decorator function, like so:"
   ]
  },
  {
   "cell_type": "code",
   "execution_count": null,
   "metadata": {},
   "outputs": [],
   "source": [
    "@add_to_class(Assistant)\n",
    "def new_method(self):\n",
    "    # Method implementation\n",
    "    pass"
   ]
  },
  {
   "cell_type": "markdown",
   "metadata": {},
   "source": [
    "### Contributing to Scholaris\n",
    "This Python package has been developed using [nbdev](https://nbdev.fast.ai/). To contribute to this package, install `nbdev` and follow the [nbdev documentation](https://nbdev.fast.ai/tutorials/tutorial.html) to set up your development environment."
   ]
  },
  {
   "cell_type": "markdown",
   "metadata": {},
   "source": [
    "## Acknowledgements\n",
    "\n",
    "Many thanks to the developers of [Ollama](https://ollama.com/) and the [Ollama Python Library](https://pypi.org/project/ollama/) for providing the core functionality that Scholaris is built upon, and thanks to all the providers of open-source and open-weight models. Special thanks to the developers of [nbdev](https://nbdev.fast.ai/) for making it easy to develop and document this package, and for many insightful tutorials and inspirations!"
   ]
  },
  {
   "cell_type": "markdown",
   "metadata": {},
   "source": []
  }
 ],
 "metadata": {
  "kernelspec": {
   "display_name": "python3",
   "language": "python",
   "name": "python3"
  }
 },
 "nbformat": 4,
 "nbformat_minor": 4
}
